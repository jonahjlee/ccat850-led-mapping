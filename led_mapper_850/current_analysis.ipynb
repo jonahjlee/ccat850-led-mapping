{
 "cells": [
  {
   "cell_type": "code",
   "id": "initial_id",
   "metadata": {
    "collapsed": true,
    "ExecuteTime": {
     "end_time": "2025-03-05T20:59:31.948201Z",
     "start_time": "2025-03-05T20:59:31.938756Z"
    }
   },
   "source": [
    "import numpy as np\n",
    "import sys"
   ],
   "outputs": [
    {
     "name": "stdout",
     "output_type": "stream",
     "text": [
      "C:\\Program Files\\KiCad\\8.0\\bin\\python.exe\n"
     ]
    }
   ],
   "execution_count": 2
  },
  {
   "metadata": {
    "ExecuteTime": {
     "end_time": "2025-03-05T20:14:35.896828Z",
     "start_time": "2025-03-05T20:14:35.884355Z"
    }
   },
   "cell_type": "code",
   "source": [
    "v_pin = 3.3\n",
    "led_count = 6\n",
    "r_series = 220  # ohms\n",
    "i_led = 1e-3  # amps\n",
    "\n",
    "i_total = led_count * i_led\n",
    "v_resistor = r_series * i_total\n",
    "v_led = v_pin - v_resistor\n",
    "\n",
    "v_led"
   ],
   "id": "662e2de8727d9eba",
   "outputs": [
    {
     "data": {
      "text/plain": [
       "1.9799999999999998"
      ]
     },
     "execution_count": 9,
     "metadata": {},
     "output_type": "execute_result"
    }
   ],
   "execution_count": 9
  },
  {
   "metadata": {
    "ExecuteTime": {
     "end_time": "2025-03-05T20:13:42.134784Z",
     "start_time": "2025-03-05T20:13:42.122957Z"
    }
   },
   "cell_type": "code",
   "source": [
    "datasheet_points = [[1.4, 0.0], [1.3942675159235667, 20.0], [2.0, 0.0], [1.4583262919781597, -0.037593706571623114], [1.7213180659070844, -0.061290330543226766], [1.8020707267815261, 2.118799074844298], [1.8555420833064942, 4.772820959663896], [1.8981009180916728, 7.687505708171131], [1.9242909702671676, 10.199347849161107], [1.9504810224426619, 13.232515717526361], [1.9744885702701989, 16.1708970900052], [2.0028611267936514, 19.938660301490167], [1.8326257876529364, 3.587989761083719], [1.5914590572035907, -0.01389708260001946], [1.9362947441809357, 11.976594647031373], [1.9886748485319248, 18.114020255676692]]\n",
    "\n"
   ],
   "id": "1dc398ef5714329",
   "outputs": [
    {
     "data": {
      "text/plain": [
       "-3.3"
      ]
     },
     "execution_count": 4,
     "metadata": {},
     "output_type": "execute_result"
    }
   ],
   "execution_count": 4
  },
  {
   "metadata": {},
   "cell_type": "code",
   "outputs": [],
   "execution_count": null,
   "source": "",
   "id": "602d94a03ca00919"
  }
 ],
 "metadata": {
  "kernelspec": {
   "display_name": "Python 3",
   "language": "python",
   "name": "python3"
  },
  "language_info": {
   "codemirror_mode": {
    "name": "ipython",
    "version": 2
   },
   "file_extension": ".py",
   "mimetype": "text/x-python",
   "name": "python",
   "nbconvert_exporter": "python",
   "pygments_lexer": "ipython2",
   "version": "2.7.6"
  }
 },
 "nbformat": 4,
 "nbformat_minor": 5
}
